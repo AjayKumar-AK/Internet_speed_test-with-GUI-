{
  "nbformat": 4,
  "nbformat_minor": 0,
  "metadata": {
    "colab": {
      "provenance": [],
      "authorship_tag": "ABX9TyNfDeEcW0ACl3+k8Qc6W22w",
      "include_colab_link": true
    },
    "kernelspec": {
      "name": "python3",
      "display_name": "Python 3"
    },
    "language_info": {
      "name": "python"
    }
  },
  "cells": [
    {
      "cell_type": "markdown",
      "metadata": {
        "id": "view-in-github",
        "colab_type": "text"
      },
      "source": [
        "<a href=\"https://colab.research.google.com/github/AjayKumar-AK/Internet_speed_test-with-GUI-/blob/main/mini_project_demo.ipynb\" target=\"_parent\"><img src=\"https://colab.research.google.com/assets/colab-badge.svg\" alt=\"Open In Colab\"/></a>"
      ]
    },
    {
      "cell_type": "markdown",
      "source": [
        "Using Random Forest Regression algorithm for predicting the porosity (%) for the given input and analysing the model's accuracy.\n",
        "Importing the required modules."
      ],
      "metadata": {
        "id": "XQbmSRNqhN_h"
      }
    },
    {
      "cell_type": "code",
      "execution_count": 39,
      "metadata": {
        "id": "iGmj03zrZhHb"
      },
      "outputs": [],
      "source": [
        "import pandas as py\n",
        "import numpy as np\n",
        "from sklearn.model_selection import train_test_split"
      ]
    },
    {
      "cell_type": "markdown",
      "source": [
        "Opening the dataset and seperating independent and dependent variables as X and Y respectively."
      ],
      "metadata": {
        "id": "TocFE8JxhUQA"
      }
    },
    {
      "cell_type": "code",
      "source": [
        "df = py.read_csv('Porosity.csv')\n",
        "X = df.iloc[:, :-1]\n",
        "Y = df.iloc[:, -1: ]\n",
        "X_train,X_test,Y_train,Y_test = train_test_split(X,Y,test_size=0.2,random_state=100)\n",
        "Y"
      ],
      "metadata": {
        "id": "qoUthZnWZwq-"
      },
      "execution_count": null,
      "outputs": []
    },
    {
      "cell_type": "markdown",
      "source": [
        "Training the model using Random Forest"
      ],
      "metadata": {
        "id": "MghwxVqWhYt2"
      }
    },
    {
      "cell_type": "code",
      "source": [
        "from sklearn.ensemble import RandomForestRegressor\n",
        "rf = RandomForestRegressor()\n",
        "rf.fit(X_train,Y_train)\n",
        "Y_pred = rf.predict(X_test)"
      ],
      "metadata": {
        "id": "AzkoaBIQfn9w",
        "colab": {
          "base_uri": "https://localhost:8080/"
        },
        "outputId": "892b8f3f-9c63-4370-bef2-87e10d14e850"
      },
      "execution_count": 137,
      "outputs": [
        {
          "output_type": "stream",
          "name": "stderr",
          "text": [
            "<ipython-input-137-4495b0581cb0>:3: DataConversionWarning: A column-vector y was passed when a 1d array was expected. Please change the shape of y to (n_samples,), for example using ravel().\n",
            "  rf.fit(X_train,Y_train)\n"
          ]
        }
      ]
    },
    {
      "cell_type": "markdown",
      "source": [
        "prediction"
      ],
      "metadata": {
        "id": "IW8jN-OzvPkO"
      }
    },
    {
      "cell_type": "code",
      "source": [
        "'''x1=float(input(\"enter the value of Laser Power P : \"))\n",
        "x2=float(input(\"enter the value of speed in mm/s : \"))\n",
        "x3=float(input(\"enter the evalue of layer thickness in mm : \"))\n",
        "x4=float(input(\"enter the value of Hatch Spacing h (mm)\"))\n",
        "x5=float(input(\"enter the value of Laser Energy Density (J/mm) : \"))\n",
        "p_list=[x1,x2,x3,x4,x5]'''\n",
        "p_list=[60,250,0.06,0.10,0.24]\n",
        "c= rf.predict([p_list])\n",
        "print('the mean value is : ',c[0])\n"
      ],
      "metadata": {
        "colab": {
          "base_uri": "https://localhost:8080/"
        },
        "id": "4P1ulbkhvOhm",
        "outputId": "bd7d68ff-fb7a-408f-b315-b96e10c42428"
      },
      "execution_count": 135,
      "outputs": [
        {
          "output_type": "stream",
          "name": "stdout",
          "text": [
            "the mean value is :  1.5351660000000016\n"
          ]
        },
        {
          "output_type": "stream",
          "name": "stderr",
          "text": [
            "/usr/local/lib/python3.10/dist-packages/sklearn/base.py:439: UserWarning: X does not have valid feature names, but RandomForestRegressor was fitted with feature names\n",
            "  warnings.warn(\n"
          ]
        }
      ]
    },
    {
      "cell_type": "markdown",
      "source": [
        "predicting the accuracy of the model by finding the  Mean Squared Error and Root Mean Squared Error."
      ],
      "metadata": {
        "id": "Q_jeq-j4hk6w"
      }
    },
    {
      "cell_type": "code",
      "source": [
        "'''from sklearn.metrics import mean_squared_error\n",
        "m= mean_squared_error(Y_test,Y_pred)\n",
        "n= np.sqrt(m)\n",
        "print(\"Mean Squared Error : \", m)\n",
        "print(\"Square root of Mean Squared Error : \", n)'''"
      ],
      "metadata": {
        "id": "_V6QFUZZgkGg"
      },
      "execution_count": null,
      "outputs": []
    },
    {
      "cell_type": "markdown",
      "source": [
        "ULTIMATE TENSILE STRENGTH"
      ],
      "metadata": {
        "id": "RKsSmOaRhLlI"
      }
    },
    {
      "cell_type": "markdown",
      "source": [
        "Loading the data and seperating the independent variables and dependent variables as X1 and Y1 respectively"
      ],
      "metadata": {
        "id": "ZBXp80xWjv2Y"
      }
    },
    {
      "cell_type": "code",
      "source": [
        "df = py.read_csv('UST.csv')\n",
        "X1 = df.iloc[:, :-1]\n",
        "Y1 = df.iloc[:, -1: ]\n",
        "X1_train,X1_test,Y1_train,Y1_test = train_test_split(X1,Y1,test_size=0.2,random_state=100)\n"
      ],
      "metadata": {
        "id": "35lTdZplju25"
      },
      "execution_count": null,
      "outputs": []
    },
    {
      "cell_type": "markdown",
      "source": [
        "Training the model by RandomForest Algorithm"
      ],
      "metadata": {
        "id": "C2mAce5akGdK"
      }
    },
    {
      "cell_type": "code",
      "source": [
        "from sklearn.ensemble import RandomForestRegressor\n",
        "rf1 = RandomForestRegressor()\n",
        "rf1.fit(X1_train,Y1_train)\n",
        "Y1_pred = rf1.predict(X1_test)"
      ],
      "metadata": {
        "id": "qQdIHLHGkh_h",
        "colab": {
          "base_uri": "https://localhost:8080/"
        },
        "outputId": "7856e32e-a676-4491-aa1b-03d82ff5647a"
      },
      "execution_count": 58,
      "outputs": [
        {
          "output_type": "stream",
          "name": "stderr",
          "text": [
            "<ipython-input-58-a07d8b3ef9ae>:3: DataConversionWarning: A column-vector y was passed when a 1d array was expected. Please change the shape of y to (n_samples,), for example using ravel().\n",
            "  rf1.fit(X1_train,Y1_train)\n"
          ]
        }
      ]
    },
    {
      "cell_type": "markdown",
      "source": [
        "predicting value for user parameters."
      ],
      "metadata": {
        "id": "KS_CZbru2Mvi"
      }
    },
    {
      "cell_type": "code",
      "source": [
        "'''x1=float(input(\"enter the value of Laser Power P : \"))\n",
        "x2=float(input(\"enter the value of speed in mm/s : \"))\n",
        "x3=float(input(\"enter the evalue of layer thickness in mm : \"))\n",
        "x4=float(input(\"enter the value of Hatch Spacing h (mm)\"))\n",
        "x5=float(input(\"enter the value of Laser Energy Density (J/mm) : \"))\n",
        "p_list=[x1,x2,x3,x4,x5]'''\n",
        "p_list=[60,250,0.06,0.10,0.24]\n",
        "c= rf1.predict([p_list])\n",
        "print('the mean value is : ',c[0])\n"
      ],
      "metadata": {
        "colab": {
          "base_uri": "https://localhost:8080/"
        },
        "id": "geQ0czy92McL",
        "outputId": "2c2ee6df-12f9-485d-9e41-e21812f696cd"
      },
      "execution_count": 59,
      "outputs": [
        {
          "output_type": "stream",
          "name": "stdout",
          "text": [
            "the mean value is :  373.36\n"
          ]
        },
        {
          "output_type": "stream",
          "name": "stderr",
          "text": [
            "/usr/local/lib/python3.10/dist-packages/sklearn/base.py:439: UserWarning: X does not have valid feature names, but RandomForestRegressor was fitted with feature names\n",
            "  warnings.warn(\n"
          ]
        }
      ]
    },
    {
      "cell_type": "markdown",
      "source": [
        "predicting the accuracy of the model by finding the Mean Squared Error and Root Mean Squared Error."
      ],
      "metadata": {
        "id": "H02KFpKWkyOX"
      }
    },
    {
      "cell_type": "code",
      "source": [
        "from sklearn.metrics import mean_squared_error\n",
        "m1= mean_squared_error(Y1_test,Y1_pred)\n",
        "n1= np.sqrt(m1)\n",
        "\n"
      ],
      "metadata": {
        "id": "ysLW35uIkzpZ"
      },
      "execution_count": 60,
      "outputs": []
    },
    {
      "cell_type": "markdown",
      "source": [
        "VICKERS HARDNESS TEST"
      ],
      "metadata": {
        "id": "ljA9aXr2lL-d"
      }
    },
    {
      "cell_type": "markdown",
      "source": [
        "Loading the data and seperating the independent variables and dependent variables as X2 and Y2 respectively"
      ],
      "metadata": {
        "id": "0xLpecUHlL8R"
      }
    },
    {
      "cell_type": "code",
      "source": [
        "df = py.read_csv('VickerHT.csv')\n",
        "X2 = df.iloc[:, :-1]\n",
        "Y2 = df.iloc[:, -1: ]\n",
        "X2_train,X2_test,Y2_train,Y2_test = train_test_split(X2,Y2,test_size=0.2,random_state=100)"
      ],
      "metadata": {
        "id": "4O_HDPYqlJEQ"
      },
      "execution_count": 66,
      "outputs": []
    },
    {
      "cell_type": "markdown",
      "source": [
        "Training the model by RandomForest Algorithm"
      ],
      "metadata": {
        "id": "WKPPwvCOl5Zw"
      }
    },
    {
      "cell_type": "code",
      "source": [
        "from sklearn.ensemble import RandomForestRegressor\n",
        "rf2 = RandomForestRegressor()\n",
        "rf2.fit(X2_train,Y2_train)\n",
        "Y2_pred = rf1.predict(X2_test)"
      ],
      "metadata": {
        "id": "dNGv1cnRl-Wg",
        "colab": {
          "base_uri": "https://localhost:8080/"
        },
        "outputId": "74451264-625e-42f3-a697-33845a6bd296"
      },
      "execution_count": 67,
      "outputs": [
        {
          "output_type": "stream",
          "name": "stderr",
          "text": [
            "<ipython-input-67-c10dce112c35>:3: DataConversionWarning: A column-vector y was passed when a 1d array was expected. Please change the shape of y to (n_samples,), for example using ravel().\n",
            "  rf2.fit(X2_train,Y2_train)\n"
          ]
        }
      ]
    },
    {
      "cell_type": "markdown",
      "source": [
        "predicting value for user parameters."
      ],
      "metadata": {
        "id": "49ojbsJL2ktS"
      }
    },
    {
      "cell_type": "code",
      "source": [
        "'''x1=float(input(\"enter the value of Laser Power P : \"))\n",
        "x2=float(input(\"enter the value of speed in mm/s : \"))\n",
        "x3=float(input(\"enter the evalue of layer thickness in mm : \"))\n",
        "x4=float(input(\"enter the value of Hatch Spacing h (mm)\"))\n",
        "x5=float(input(\"enter the value of Laser Energy Density (J/mm) : \"))\n",
        "p_list=[x1,x2,x3,x4,x5]'''\n",
        "p_list=[60,250,0.06,0.10,0.24]\n",
        "c= rf2.predict([p_list])\n",
        "print('the mean value is : ',c[0])"
      ],
      "metadata": {
        "colab": {
          "base_uri": "https://localhost:8080/"
        },
        "id": "8kqi1Un32keJ",
        "outputId": "a02da1fd-ba18-4667-ceeb-57d3469eb089"
      },
      "execution_count": 68,
      "outputs": [
        {
          "output_type": "stream",
          "name": "stdout",
          "text": [
            "the mean value is :  116.9\n"
          ]
        },
        {
          "output_type": "stream",
          "name": "stderr",
          "text": [
            "/usr/local/lib/python3.10/dist-packages/sklearn/base.py:439: UserWarning: X does not have valid feature names, but RandomForestRegressor was fitted with feature names\n",
            "  warnings.warn(\n"
          ]
        }
      ]
    },
    {
      "cell_type": "markdown",
      "source": [
        "predicting the accuracy of the model by finding the Mean Squared Error and Root Mean Squared Error."
      ],
      "metadata": {
        "id": "y5rZ5BrdmcAH"
      }
    },
    {
      "cell_type": "code",
      "source": [
        "from sklearn.metrics import mean_squared_error\n",
        "m2= mean_squared_error(Y2_test,Y2_pred)\n",
        "n2= np.sqrt(m2)\n",
        "\n"
      ],
      "metadata": {
        "id": "N3RDrZ6amjKS"
      },
      "execution_count": 69,
      "outputs": []
    },
    {
      "cell_type": "markdown",
      "source": [
        "Young's Modulus"
      ],
      "metadata": {
        "id": "N6GYf5b7mnR2"
      }
    },
    {
      "cell_type": "markdown",
      "source": [
        "Loading the data and seperating the independent variables and dependent variables as X3 and Y3 respectively"
      ],
      "metadata": {
        "id": "6J17GkHqmnPZ"
      }
    },
    {
      "cell_type": "code",
      "source": [
        "df = py.read_csv(\"Young'sM.csv\")\n",
        "X3 = df.iloc[:, :-1]\n",
        "Y3 = df.iloc[:, -1: ]\n",
        "X3_train,X3_test,Y3_train,Y3_test = train_test_split(X3,Y3,test_size=0.2,random_state=100)"
      ],
      "metadata": {
        "id": "n_VK35jWmzPx"
      },
      "execution_count": 72,
      "outputs": []
    },
    {
      "cell_type": "markdown",
      "source": [
        "Training the model by RandomForest Algorithm"
      ],
      "metadata": {
        "id": "pixbj_FHm8oY"
      }
    },
    {
      "cell_type": "code",
      "source": [
        "from sklearn.ensemble import RandomForestRegressor\n",
        "rf3 = RandomForestRegressor()\n",
        "rf3.fit(X3_train,Y3_train)\n",
        "Y3_pred = rf3.predict(X3_test)"
      ],
      "metadata": {
        "id": "CQsvZXcNm-dg",
        "colab": {
          "base_uri": "https://localhost:8080/"
        },
        "outputId": "ab831311-6873-4495-a364-f909b3716389"
      },
      "execution_count": 73,
      "outputs": [
        {
          "output_type": "stream",
          "name": "stderr",
          "text": [
            "<ipython-input-73-0de5c7258071>:3: DataConversionWarning: A column-vector y was passed when a 1d array was expected. Please change the shape of y to (n_samples,), for example using ravel().\n",
            "  rf3.fit(X3_train,Y3_train)\n"
          ]
        }
      ]
    },
    {
      "cell_type": "markdown",
      "source": [
        "predicting value for user parameters."
      ],
      "metadata": {
        "id": "_wT680cD2n9j"
      }
    },
    {
      "cell_type": "code",
      "source": [
        "'''x1=float(input(\"enter the value of Laser Power P : \"))\n",
        "x2=float(input(\"enter the value of speed in mm/s : \"))\n",
        "x3=float(input(\"enter the evalue of layer thickness in mm : \"))\n",
        "x4=float(input(\"enter the value of Hatch Spacing h (mm)\"))\n",
        "x5=float(input(\"enter the value of Laser Energy Density (J/mm) : \"))\n",
        "p_list=[x1,x2,x3,x4,x5]'''\n",
        "p_list=[60,250,0.06,0.10,0.24]\n",
        "c= rf3.predict([p_list])\n",
        "print('the mean value is : ',c[0])\n"
      ],
      "metadata": {
        "colab": {
          "base_uri": "https://localhost:8080/"
        },
        "id": "abCVMiUF2nxP",
        "outputId": "67bacc32-5e0d-4cf3-886e-15349cb015b8"
      },
      "execution_count": 74,
      "outputs": [
        {
          "output_type": "stream",
          "name": "stdout",
          "text": [
            "the mean value is :  72.19\n"
          ]
        },
        {
          "output_type": "stream",
          "name": "stderr",
          "text": [
            "/usr/local/lib/python3.10/dist-packages/sklearn/base.py:439: UserWarning: X does not have valid feature names, but RandomForestRegressor was fitted with feature names\n",
            "  warnings.warn(\n"
          ]
        }
      ]
    },
    {
      "cell_type": "markdown",
      "source": [
        "predicting the accuracy of the model by finding the Mean Squared Error and Root Mean Squared Error."
      ],
      "metadata": {
        "id": "1atYJJjYnLM_"
      }
    },
    {
      "cell_type": "code",
      "source": [
        "from sklearn.metrics import mean_squared_error\n",
        "m3= mean_squared_error(Y3_test,Y3_pred)\n",
        "n3= np.sqrt(m3)\n"
      ],
      "metadata": {
        "id": "9XB2UngfnLe3"
      },
      "execution_count": 75,
      "outputs": []
    },
    {
      "cell_type": "markdown",
      "source": [
        "SUMMARY :\n",
        "there are four trained model that can predict the mean value and standard deviation for the input parameters namely power,speed,layer thickness,hatching space,LED"
      ],
      "metadata": {
        "id": "igiLGBgtnWf5"
      }
    },
    {
      "cell_type": "markdown",
      "source": [
        "FOR YIELD STRENGTH"
      ],
      "metadata": {
        "id": "34aSuo8LOnFA"
      }
    },
    {
      "cell_type": "markdown",
      "source": [
        "Loading the data and seperating the independent variables and dependent variables as X3 and Y3 respectively"
      ],
      "metadata": {
        "id": "qEESG2VSO6hJ"
      }
    },
    {
      "cell_type": "code",
      "source": [
        "df = py.read_csv(\"YeildS.csv\")\n",
        "X4 = df.iloc[:, :-1]\n",
        "Y4 = df.iloc[:, -1: ]\n",
        "X4_train,X4_test,Y4_train,Y4_test = train_test_split(X4,Y4,test_size=0.2,random_state=100)"
      ],
      "metadata": {
        "id": "7DckA07bOlyx"
      },
      "execution_count": 78,
      "outputs": []
    },
    {
      "cell_type": "markdown",
      "source": [
        "Traning the model using Random forest algorithm"
      ],
      "metadata": {
        "id": "lK9ZhridPc0w"
      }
    },
    {
      "cell_type": "code",
      "source": [
        "from sklearn.ensemble import RandomForestRegressor\n",
        "rf4 = RandomForestRegressor()\n",
        "rf4.fit(X4_train,Y4_train)\n",
        "Y4_pred = rf4.predict(X4_test)"
      ],
      "metadata": {
        "colab": {
          "base_uri": "https://localhost:8080/"
        },
        "outputId": "89fe6c80-ad50-4bd7-dbac-61f68e55c832",
        "id": "fqnOBuzwPlzw"
      },
      "execution_count": 79,
      "outputs": [
        {
          "output_type": "stream",
          "name": "stderr",
          "text": [
            "<ipython-input-79-61d1f1ebef7e>:3: DataConversionWarning: A column-vector y was passed when a 1d array was expected. Please change the shape of y to (n_samples,), for example using ravel().\n",
            "  rf4.fit(X4_train,Y4_train)\n"
          ]
        }
      ]
    },
    {
      "cell_type": "markdown",
      "source": [
        "predicting value for user parameters."
      ],
      "metadata": {
        "id": "FcwtNTTMPuBH"
      }
    },
    {
      "cell_type": "code",
      "source": [
        "'''x1=float(input(\"enter the value of Laser Power P : \"))\n",
        "x2=float(input(\"enter the value of speed in mm/s : \"))\n",
        "x3=float(input(\"enter the evalue of layer thickness in mm : \"))\n",
        "x4=float(input(\"enter the value of Hatch Spacing h (mm)\"))\n",
        "x5=float(input(\"enter the value of Laser Energy Density (J/mm) : \"))\n",
        "p_list=[x1,x2,x3,x4,x5]'''\n",
        "p_list=[60,250,0.06,0.10,0.24]\n",
        "c= rf4.predict([p_list])\n",
        "print('the mean value is : ',c[0])"
      ],
      "metadata": {
        "colab": {
          "base_uri": "https://localhost:8080/"
        },
        "id": "CJe4flwJPvhC",
        "outputId": "4d5eb5c1-4fb6-400f-843b-414e1751adcc"
      },
      "execution_count": 80,
      "outputs": [
        {
          "output_type": "stream",
          "name": "stdout",
          "text": [
            "the mean value is :  223.81\n"
          ]
        },
        {
          "output_type": "stream",
          "name": "stderr",
          "text": [
            "/usr/local/lib/python3.10/dist-packages/sklearn/base.py:439: UserWarning: X does not have valid feature names, but RandomForestRegressor was fitted with feature names\n",
            "  warnings.warn(\n"
          ]
        }
      ]
    },
    {
      "cell_type": "markdown",
      "source": [
        "TRYING TO PREDICT ALL THE DATA IN ONE GO!"
      ],
      "metadata": {
        "id": "m7osBOxFQB2Q"
      }
    },
    {
      "cell_type": "markdown",
      "source": [
        "Loading the file and specifing input and output parameters"
      ],
      "metadata": {
        "id": "_oorEYK2RFtZ"
      }
    },
    {
      "cell_type": "code",
      "source": [
        "df=py.read_csv(\"allinall.csv\")\n",
        "X5 = df.iloc[:, :-5]\n",
        "Y5=df.iloc[:, -5:]\n",
        "X5_train,X5_test,Y5_train,Y5_test = train_test_split(X5,Y5,test_size=0.2,random_state=100)\n"
      ],
      "metadata": {
        "id": "MW648LiPRC3f"
      },
      "execution_count": 107,
      "outputs": []
    },
    {
      "cell_type": "markdown",
      "source": [
        "USING RANDOMFOREST REGRESSION TO  TRAIN THE MODEL"
      ],
      "metadata": {
        "id": "s2bI8--LT7ol"
      }
    },
    {
      "cell_type": "code",
      "source": [
        "from sklearn.ensemble import RandomForestRegressor\n",
        "rf5= RandomForestRegressor()\n",
        "rf5.fit(X5_train,Y5_train)\n",
        "Y5_pred = rf4.predict(X5_test)"
      ],
      "metadata": {
        "id": "4cY_nVv3T8DA"
      },
      "execution_count": 134,
      "outputs": []
    },
    {
      "cell_type": "markdown",
      "source": [
        "Model is trained, now testing the model"
      ],
      "metadata": {
        "id": "kTLozaIdVbQd"
      }
    },
    {
      "cell_type": "code",
      "source": [
        "'''x1=float(input(\"enter the value of Laser Power P : \"))\n",
        "x2=float(input(\"enter the value of speed in mm/s : \"))\n",
        "x3=float(input(\"enter the evalue of layer thickness in mm : \"))\n",
        "x4=float(input(\"enter the value of Hatch Spacing h (mm)\"))\n",
        "x5=float(input(\"enter the value of Laser Energy Density (J/mm) : \"))\n",
        "p_list=[x1,x2,x3,x4,x5]'''\n",
        "p_list=[60,250,0.06,0.10,0.24]\n",
        "c= rf5.predict([p_list])\n",
        "lis=[\"Young's modulus\",\"Vicker Hardness \",\"porosity\",\"Ultimate tensile strength\",\"yield strength\"]\n",
        "for i in range(0,5):\n",
        "  print('the', lis[i] ,'value is : ',c[0][i])\n",
        "\n"
      ],
      "metadata": {
        "colab": {
          "base_uri": "https://localhost:8080/"
        },
        "id": "jaFVSpAPVftF",
        "outputId": "6e0270fd-bbbc-4ba9-a8fe-9d1233b8848f"
      },
      "execution_count": 120,
      "outputs": [
        {
          "output_type": "stream",
          "name": "stdout",
          "text": [
            "the Young's modulus value is :  72.67\n",
            "the Vicker Hardness  value is :  117.41\n",
            "the porosity value is :  0.09866300000000008\n",
            "the Ultimate tensile strength value is :  374.99\n",
            "the yield strength value is :  225.39\n"
          ]
        },
        {
          "output_type": "stream",
          "name": "stderr",
          "text": [
            "/usr/local/lib/python3.10/dist-packages/sklearn/base.py:439: UserWarning: X does not have valid feature names, but RandomForestRegressor was fitted with feature names\n",
            "  warnings.warn(\n"
          ]
        }
      ]
    }
  ]
}